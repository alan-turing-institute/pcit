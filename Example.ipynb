{
 "cells": [
  {
   "cell_type": "code",
   "execution_count": 70,
   "metadata": {},
   "outputs": [],
   "source": [
    "from pcit import MetaEstimator, StructureEstimation, IndependenceTest\n",
    "from sklearn.datasets import load_boston, load_iris\n",
    "import numpy as np"
   ]
  },
  {
   "cell_type": "code",
   "execution_count": 71,
   "metadata": {},
   "outputs": [],
   "source": [
    "X = load_boston()['data']\n",
    "y = np.reshape(load_boston()['target'],(-1,1))\n",
    "boston = np.concatenate((X,y),axis = 1)\n",
    "boston_names = ['crime', 'land_zoned', '%industry', 'riverdummy', 'nitricox', 'rooms/dwelling', 'age', \n",
    "                 'distemploycent', 'accesshighway', 'proptaxrate','pupiltecherratio','%black','lowerstatpop','medvhome']"
   ]
  },
  {
   "cell_type": "markdown",
   "metadata": {},
   "source": [
    "# Controlling for socioeconomic factors in the boston data set,  is there a relationship between industrialization and crime in a neighborhood?"
   ]
  },
  {
   "cell_type": "code",
   "execution_count": 72,
   "metadata": {
    "scrolled": true
   },
   "outputs": [],
   "source": [
    "# Industrialization\n",
    "X1 = boston[:,[i for i in range(len(names)) if names[i] in ['land_zoned', '%industry', 'nitricox']]]\n",
    "\n",
    "# Crime\n",
    "X2 = boston[:,[i for i in range(len(names)) if names[i] in ['crime']]]\n",
    "\n",
    "# Socioeconomic factors\n",
    "Z = boston[:,[i for i in range(len(names)) if names[i] in ['age', 'pupilteacherratio', '%black', 'lowerstatpop', 'medvhome']]]\n",
    "\n",
    "p_values_adj, independent, conf_int_out = IndependenceTest.PCIT(X1, X2, z = Z)"
   ]
  },
  {
   "cell_type": "code",
   "execution_count": 73,
   "metadata": {},
   "outputs": [
    {
     "name": "stdout",
     "output_type": "stream",
     "text": [
      "[  1.86244841e-02   2.36008035e-08   3.10163361e-06]\n"
     ]
    }
   ],
   "source": [
    "print(p_values_adj)"
   ]
  },
  {
   "cell_type": "markdown",
   "metadata": {},
   "source": [
    "### It seems that neither 'land_zoned', '%industry' and 'nitricox' are conditionally independent from crime, and hence.."
   ]
  },
  {
   "cell_type": "code",
   "execution_count": 74,
   "metadata": {},
   "outputs": [
    {
     "name": "stdout",
     "output_type": "stream",
     "text": [
      "(False, 4.2639338252553015e-19)\n"
     ]
    }
   ],
   "source": [
    "print(independent)"
   ]
  },
  {
   "cell_type": "markdown",
   "metadata": {},
   "source": [
    "### .. the two data sets are not independent"
   ]
  },
  {
   "cell_type": "code",
   "execution_count": 75,
   "metadata": {},
   "outputs": [],
   "source": [
    "X = load_iris()['data']\n",
    "y = np.reshape(load_iris()['target'],(-1,1))\n",
    "iris = np.concatenate((X,y),axis = 1)\n",
    "iris_names = ['sepal length (cm)', 'sepal width (cm)', 'petal length (cm)', 'petal width (cm)', 'class']"
   ]
  },
  {
   "cell_type": "code",
   "execution_count": 77,
   "metadata": {},
   "outputs": [
    {
     "name": "stdout",
     "output_type": "stream",
     "text": [
      "custom estimators needs to be a tuple of 2 lists, ([regression estimators], [classification estimators])\n"
     ]
    }
   ],
   "source": [
    "from sklearn.linear_model import RidgeCV, LassoCV, SGDClassifier, LogisticRegression\n",
    "                    \n",
    "regressors = [RidgeCV(), LassoCV()]\n",
    "classifiers = [SGDClassifier(), LogisticRegression()]\n",
    "\n",
    "estimators = (regressors, classifiers)\n",
    "\n",
    "custom_estim = MetaEstimator.MetaEstimator(\n",
    "                estimators = estimators,\n",
    "                                method = 'multiplexing')"
   ]
  },
  {
   "cell_type": "code",
   "execution_count": null,
   "metadata": {},
   "outputs": [],
   "source": []
  },
  {
   "cell_type": "code",
   "execution_count": null,
   "metadata": {
    "collapsed": true
   },
   "outputs": [],
   "source": []
  }
 ],
 "metadata": {
  "kernelspec": {
   "display_name": "Python 3",
   "language": "python",
   "name": "python3"
  },
  "language_info": {
   "codemirror_mode": {
    "name": "ipython",
    "version": 3
   },
   "file_extension": ".py",
   "mimetype": "text/x-python",
   "name": "python",
   "nbconvert_exporter": "python",
   "pygments_lexer": "ipython3",
   "version": "3.6.1"
  }
 },
 "nbformat": 4,
 "nbformat_minor": 2
}
